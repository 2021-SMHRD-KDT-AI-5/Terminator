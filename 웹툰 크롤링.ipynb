{
 "cells": [
  {
   "cell_type": "markdown",
   "metadata": {},
   "source": [
    "# 웹툰 크롤링\n",
    "- 장르, 제목, 정식웹툰, 포텐업, 전체 좋아요, 전체 별점, 이미지"
   ]
  },
  {
   "cell_type": "code",
   "execution_count": 2,
   "metadata": {},
   "outputs": [],
   "source": [
    "from selenium import webdriver as wb\n",
    "from selenium.webdriver.common.keys import Keys\n",
    "from bs4 import BeautifulSoup as bs\n",
    "import pandas as pd\n",
    "import time\n",
    "import requests as req\n",
    "import os # 파일 시스템을 위한 라이브러리 ex) 파일, 폴더를 생성 삭제\n",
    "from urllib.request import urlretrieve # 이미지의 경로를 파일로 저장\n",
    "from tqdm import tqdm_notebook as tq"
   ]
  },
  {
   "cell_type": "markdown",
   "metadata": {},
   "source": [
    "## 반복문으로 한번에 제목크롤링"
   ]
  },
  {
   "cell_type": "code",
   "execution_count": 94,
   "metadata": {},
   "outputs": [
    {
     "data": {
      "text/html": [
       "<div>\n",
       "<style scoped>\n",
       "    .dataframe tbody tr th:only-of-type {\n",
       "        vertical-align: middle;\n",
       "    }\n",
       "\n",
       "    .dataframe tbody tr th {\n",
       "        vertical-align: top;\n",
       "    }\n",
       "\n",
       "    .dataframe thead th {\n",
       "        text-align: right;\n",
       "    }\n",
       "</style>\n",
       "<table border=\"1\" class=\"dataframe\">\n",
       "  <thead>\n",
       "    <tr style=\"text-align: right;\">\n",
       "      <th></th>\n",
       "      <th>웹툰이름</th>\n",
       "    </tr>\n",
       "  </thead>\n",
       "  <tbody>\n",
       "    <tr>\n",
       "      <th>0</th>\n",
       "      <td>대학원 탈출일지</td>\n",
       "    </tr>\n",
       "    <tr>\n",
       "      <th>1</th>\n",
       "      <td>과학고 생존일지</td>\n",
       "    </tr>\n",
       "    <tr>\n",
       "      <th>2</th>\n",
       "      <td>햇살 주인공을 악당으로 키워버렸다</td>\n",
       "    </tr>\n",
       "    <tr>\n",
       "      <th>3</th>\n",
       "      <td>사예의 식이장애 일지</td>\n",
       "    </tr>\n",
       "    <tr>\n",
       "      <th>4</th>\n",
       "      <td>빨간맛 로맨스</td>\n",
       "    </tr>\n",
       "    <tr>\n",
       "      <th>...</th>\n",
       "      <td>...</td>\n",
       "    </tr>\n",
       "    <tr>\n",
       "      <th>67</th>\n",
       "      <td>범고래아가씨</td>\n",
       "    </tr>\n",
       "    <tr>\n",
       "      <th>68</th>\n",
       "      <td>잔액이 부족합니다</td>\n",
       "    </tr>\n",
       "    <tr>\n",
       "      <th>69</th>\n",
       "      <td>제목이 7080 만화</td>\n",
       "    </tr>\n",
       "    <tr>\n",
       "      <th>70</th>\n",
       "      <td>나는 마요 집사로소이다</td>\n",
       "    </tr>\n",
       "    <tr>\n",
       "      <th>71</th>\n",
       "      <td>어둠의 일상툰</td>\n",
       "    </tr>\n",
       "  </tbody>\n",
       "</table>\n",
       "<p>72 rows × 1 columns</p>\n",
       "</div>"
      ],
      "text/plain": [
       "                  웹툰이름\n",
       "0             대학원 탈출일지\n",
       "1             과학고 생존일지\n",
       "2   햇살 주인공을 악당으로 키워버렸다\n",
       "3          사예의 식이장애 일지\n",
       "4              빨간맛 로맨스\n",
       "..                 ...\n",
       "67              범고래아가씨\n",
       "68           잔액이 부족합니다\n",
       "69         제목이 7080 만화\n",
       "70        나는 마요 집사로소이다\n",
       "71             어둠의 일상툰\n",
       "\n",
       "[72 rows x 1 columns]"
      ]
     },
     "execution_count": 94,
     "metadata": {},
     "output_type": "execute_result"
    }
   ],
   "source": [
    "# driver = wb.Chrome()\n",
    "# url=\"https://comic.naver.com/genre/bestChallenge.nhn?m=main&order=ViewCount\"\n",
    "# driver.get(url)\n",
    "# time.sleep(1)\n",
    "\n",
    "# # 태그를 제외하고 순수한 텍스트만 담아줄 리스트 생성\n",
    "# titleList = [] \n",
    "\n",
    "# for i in range(2,5):\n",
    "#     soup = bs(driver.page_source, 'lxml')\n",
    "#     title = soup.select(\"div.challengeInfo > h6 > a\")\n",
    "# #   반복문안의 반복문을 사용하여 titleList 추가하기\n",
    "#     for j in range(0, len(title)):\n",
    "#         titleList.append(title[j].text.strip())\n",
    "#     time.sleep(1)\n",
    "    \n",
    "# #   페이지 넘기기\n",
    "#     url=\"https://comic.naver.com/genre/bestChallenge.nhn?m=main&order=ViewCount&page=\"+str(i)\n",
    "#     driver.get(url)\n",
    "#     time.sleep(1)\n",
    "\n",
    "# dic = {\"웹툰이름\" : titleList}\n",
    "# pd.DataFrame(dic)"
   ]
  },
  {
   "cell_type": "markdown",
   "metadata": {},
   "source": [
    "# 이미지 크롤링"
   ]
  },
  {
   "cell_type": "code",
   "execution_count": 123,
   "metadata": {},
   "outputs": [
    {
     "name": "stdout",
     "output_type": "stream",
     "text": [
      "폴더 생성 완료\n"
     ]
    }
   ],
   "source": [
    "# if not os.path.isdir(\"C:/Users/SM2119/Desktop/이미지\") :\n",
    "#     print('폴더 생성 완료')\n",
    "#     os.mkdir(\"C:/Users/SM2119/Desktop/이미지\")\n",
    "# else:\n",
    "#     print(\"이미 동일한 이름의 폴더가 있습니다\")"
   ]
  },
  {
   "cell_type": "code",
   "execution_count": 121,
   "metadata": {},
   "outputs": [],
   "source": [
    "# # 이미지 반복문으로 한번에 크롤링\n",
    "# driver = wb.Chrome()\n",
    "# url = \"https://comic.naver.com/genre/bestChallenge.nhn?m=main&order=ViewCount\"\n",
    "# driver.get(url)\n",
    "\n",
    "# imgSrc = []\n",
    "\n",
    "# for i in range(2,5):\n",
    "#     soup = bs(driver.page_source, 'lxml')\n",
    "#     img = soup.select(\"div.fl > a > img\")\n",
    "#     img[0][\"src\"]\n",
    "#     for i in img:\n",
    "#         imgSrc.append(i[\"src\"])\n",
    "# #   페이지 넘기기\n",
    "#     url=\"https://comic.naver.com/genre/bestChallenge.nhn?m=main&order=ViewCount&page=\"+str(i)\n",
    "#     driver.get(url)\n",
    "#     time.sleep(1)"
   ]
  },
  {
   "cell_type": "code",
   "execution_count": 124,
   "metadata": {},
   "outputs": [
    {
     "name": "stderr",
     "output_type": "stream",
     "text": [
      "<ipython-input-124-f3bc46c4fa92>:5: TqdmDeprecationWarning: This function will be removed in tqdm==5.0.0\n",
      "Please use `tqdm.notebook.tqdm` instead of `tqdm.tqdm_notebook`\n",
      "  for i in tq(range(len(imgSrc))):\n"
     ]
    },
    {
     "data": {
      "application/vnd.jupyter.widget-view+json": {
       "model_id": "11751b541def40debe8157dc5dcd9fe1",
       "version_major": 2,
       "version_minor": 0
      },
      "text/plain": [
       "HBox(children=(HTML(value=''), FloatProgress(value=0.0, max=72.0), HTML(value='')))"
      ]
     },
     "metadata": {},
     "output_type": "display_data"
    },
    {
     "name": "stdout",
     "output_type": "stream",
     "text": [
      "\n"
     ]
    }
   ],
   "source": [
    "# # urlretrieve : URL로 표시된 네트워크 객체(URL 주소의 문서)를 로컬 파일로 저장, 즉 직접 다운로드가 가능하다\n",
    "\n",
    "# # 파일의 이름 생성\n",
    "# fileNo = 0\n",
    "# for i in tq(range(len(imgSrc))):\n",
    "#     urlretrieve(imgSrc[i], \"C:/Users/SM2119/Desktop/이미지/\"+str(i)+\".jpg\")\n",
    "#     fileNo += 1\n",
    "#     time.sleep(1)"
   ]
  },
  {
   "cell_type": "markdown",
   "metadata": {},
   "source": [
    "페이지를 장르별로 나눠서 이미지 가져오기"
   ]
  },
  {
   "cell_type": "code",
   "execution_count": 12,
   "metadata": {},
   "outputs": [
    {
     "name": "stdout",
     "output_type": "stream",
     "text": [
      "폴더 생성 완료\n"
     ]
    }
   ],
   "source": [
    "# if not os.path.isdir(\"C:/Users/SM2119/Desktop/이미지2\") :\n",
    "#     print('폴더 생성 완료')\n",
    "#     os.mkdir(\"C:/Users/SM2119/Desktop/이미지2\")\n",
    "# else:\n",
    "#     print(\"이미 동일한 이름의 폴더가 있습니다\")"
   ]
  },
  {
   "cell_type": "code",
   "execution_count": 17,
   "metadata": {},
   "outputs": [],
   "source": [
    "# driver = wb.Chrome()\n",
    "# # 좋아요\n",
    "# imgSrc = [] # 이미지\n",
    "# list1 = [4, 6] # div태그 자식 선택자 순서\n",
    "# list2 = [1, 3, 5] # td태그 자식선택자 순서\n",
    "# list3 = [\"daily\", \"comic\", \"fantasy\", \"action\",\"drama\", \"pure\", \n",
    "#          \"sensibility\", \"thrill\", \"historical\", \"sports\"] # 장르별 url\n",
    "# # \"episode\", \"omnibus\", \"story\"\n",
    "\n",
    "# for o in list3: # 장르별 페이지\n",
    "#     for m in range(1, 2): # 페이지\n",
    "#         url=\"https://comic.naver.com/genre/bestChallenge.nhn?m=\"+o+\"&order=ViewCount&page=\"+str(m)\n",
    "#         driver.get(url)\n",
    "#         time.sleep(1)\n",
    "#         # 이미지 저장\n",
    "#         soup = bs(driver.page_source, 'lxml')\n",
    "#         img = soup.select(\"div.fl > a > img\")\n",
    "#         img[0][\"src\"]\n",
    "#         for im in img:\n",
    "#             imgSrc.append(im[\"src\"])"
   ]
  },
  {
   "cell_type": "markdown",
   "metadata": {},
   "source": [
    "이미지 파일 이름 특수문자 제거"
   ]
  },
  {
   "cell_type": "code",
   "execution_count": 18,
   "metadata": {},
   "outputs": [],
   "source": [
    "# new_string = []\n",
    "# count=0\n",
    "# for i in titleList:\n",
    "#     new_string.append(''.join(filter(str.isalnum, i)))\n",
    "#     print(new_string[count])\n",
    "#     count += 1"
   ]
  },
  {
   "cell_type": "code",
   "execution_count": 19,
   "metadata": {},
   "outputs": [
    {
     "name": "stderr",
     "output_type": "stream",
     "text": [
      "<ipython-input-19-356de8d11e12>:3: TqdmDeprecationWarning: This function will be removed in tqdm==5.0.0\n",
      "Please use `tqdm.notebook.tqdm` instead of `tqdm.tqdm_notebook`\n",
      "  for i in tq(range(len(imgSrc))):\n"
     ]
    },
    {
     "data": {
      "application/vnd.jupyter.widget-view+json": {
       "model_id": "2448506ccf384014bc121f5bd35a1e8a",
       "version_major": 2,
       "version_minor": 0
      },
      "text/plain": [
       "HBox(children=(HTML(value=''), FloatProgress(value=0.0, max=240.0), HTML(value='')))"
      ]
     },
     "metadata": {},
     "output_type": "display_data"
    },
    {
     "name": "stdout",
     "output_type": "stream",
     "text": [
      "\n"
     ]
    },
    {
     "ename": "IndexError",
     "evalue": "list index out of range",
     "output_type": "error",
     "traceback": [
      "\u001b[1;31m---------------------------------------------------------------------------\u001b[0m",
      "\u001b[1;31mIndexError\u001b[0m                                Traceback (most recent call last)",
      "\u001b[1;32m<ipython-input-19-356de8d11e12>\u001b[0m in \u001b[0;36m<module>\u001b[1;34m\u001b[0m\n\u001b[0;32m      2\u001b[0m \u001b[0mfileNo\u001b[0m \u001b[1;33m=\u001b[0m \u001b[1;36m0\u001b[0m\u001b[1;33m\u001b[0m\u001b[1;33m\u001b[0m\u001b[0m\n\u001b[0;32m      3\u001b[0m \u001b[1;32mfor\u001b[0m \u001b[0mi\u001b[0m \u001b[1;32min\u001b[0m \u001b[0mtq\u001b[0m\u001b[1;33m(\u001b[0m\u001b[0mrange\u001b[0m\u001b[1;33m(\u001b[0m\u001b[0mlen\u001b[0m\u001b[1;33m(\u001b[0m\u001b[0mimgSrc\u001b[0m\u001b[1;33m)\u001b[0m\u001b[1;33m)\u001b[0m\u001b[1;33m)\u001b[0m\u001b[1;33m:\u001b[0m\u001b[1;33m\u001b[0m\u001b[1;33m\u001b[0m\u001b[0m\n\u001b[1;32m----> 4\u001b[1;33m     \u001b[0murlretrieve\u001b[0m\u001b[1;33m(\u001b[0m\u001b[0mimgSrc\u001b[0m\u001b[1;33m[\u001b[0m\u001b[0mi\u001b[0m\u001b[1;33m]\u001b[0m\u001b[1;33m,\u001b[0m \u001b[1;34m\"C:/Users/SM2119/Desktop/이미지2/\"\u001b[0m\u001b[1;33m+\u001b[0m\u001b[0mstr\u001b[0m\u001b[1;33m(\u001b[0m\u001b[0mnew_string\u001b[0m\u001b[1;33m[\u001b[0m\u001b[0mi\u001b[0m\u001b[1;33m]\u001b[0m\u001b[1;33m)\u001b[0m\u001b[1;33m+\u001b[0m\u001b[1;34m\".jpg\"\u001b[0m\u001b[1;33m)\u001b[0m\u001b[1;33m\u001b[0m\u001b[1;33m\u001b[0m\u001b[0m\n\u001b[0m\u001b[0;32m      5\u001b[0m     \u001b[0mfileNo\u001b[0m \u001b[1;33m+=\u001b[0m \u001b[1;36m1\u001b[0m\u001b[1;33m\u001b[0m\u001b[1;33m\u001b[0m\u001b[0m\n\u001b[0;32m      6\u001b[0m     \u001b[0mtime\u001b[0m\u001b[1;33m.\u001b[0m\u001b[0msleep\u001b[0m\u001b[1;33m(\u001b[0m\u001b[1;36m1\u001b[0m\u001b[1;33m)\u001b[0m\u001b[1;33m\u001b[0m\u001b[1;33m\u001b[0m\u001b[0m\n",
      "\u001b[1;31mIndexError\u001b[0m: list index out of range"
     ]
    }
   ],
   "source": [
    "# # 파일의 이름 생성\n",
    "# fileNo = 0\n",
    "# for i in tq(range(len(imgSrc))):\n",
    "#     urlretrieve(imgSrc[i], \"C:/Users/SM2119/Desktop/이미지2/\"+str(new_string[i])+\".jpg\")\n",
    "#     fileNo += 1\n",
    "#     time.sleep(1)"
   ]
  },
  {
   "cell_type": "markdown",
   "metadata": {},
   "source": [
    "# 정식웹툰 크롤링"
   ]
  },
  {
   "cell_type": "markdown",
   "metadata": {},
   "source": [
    "부모요소 선택자 : \n",
    ".parent()\n",
    "\n",
    ".parents( [selector] )\n",
    "\n",
    "selector에 값이 없으면 부모 요소를 선택하고, 값이 있으면 부모 요소에 그 selector가 있어야 선택합니다."
   ]
  },
  {
   "cell_type": "code",
   "execution_count": null,
   "metadata": {},
   "outputs": [],
   "source": [
    "# 정식연재작\n",
    "#content > div:nth-child(7) > table > tbody > tr:nth-child(3) > td:nth-child(5) >\n",
    "# div.fl > a > span.mark_serial\n",
    "\n",
    "# 타이틀\n",
    "#content > div:nth-child(7) > table > tbody > tr:nth-child(3) > td:nth-child(5) >\n",
    "# div.challengeInfo > h6 > a\n",
    "\n",
    "# 이미지태그 내 타이틀\n",
    "#content > div:nth-child(7) > table > tbody > tr:nth-child(3) > td:nth-child(5) >\n",
    "# div.fl > a > img"
   ]
  },
  {
   "cell_type": "code",
   "execution_count": 79,
   "metadata": {
    "collapsed": true
   },
   "outputs": [
    {
     "data": {
      "text/html": [
       "<div>\n",
       "<style scoped>\n",
       "    .dataframe tbody tr th:only-of-type {\n",
       "        vertical-align: middle;\n",
       "    }\n",
       "\n",
       "    .dataframe tbody tr th {\n",
       "        vertical-align: top;\n",
       "    }\n",
       "\n",
       "    .dataframe thead th {\n",
       "        text-align: right;\n",
       "    }\n",
       "</style>\n",
       "<table border=\"1\" class=\"dataframe\">\n",
       "  <thead>\n",
       "    <tr style=\"text-align: right;\">\n",
       "      <th></th>\n",
       "      <th>정식웹툰이름</th>\n",
       "    </tr>\n",
       "  </thead>\n",
       "  <tbody>\n",
       "    <tr>\n",
       "      <th>0</th>\n",
       "      <td>대학원 탈출일지</td>\n",
       "    </tr>\n",
       "    <tr>\n",
       "      <th>1</th>\n",
       "      <td>과학고 생존일지</td>\n",
       "    </tr>\n",
       "    <tr>\n",
       "      <th>2</th>\n",
       "      <td>햇살 주인공을 악당으로 키워버렸다</td>\n",
       "    </tr>\n",
       "    <tr>\n",
       "      <th>3</th>\n",
       "      <td>빨간맛 로맨스</td>\n",
       "    </tr>\n",
       "    <tr>\n",
       "      <th>4</th>\n",
       "      <td>사예의 식이장애 일지</td>\n",
       "    </tr>\n",
       "    <tr>\n",
       "      <th>5</th>\n",
       "      <td>저승파견고용직</td>\n",
       "    </tr>\n",
       "    <tr>\n",
       "      <th>6</th>\n",
       "      <td>우리 카페 사장님이 이상하다</td>\n",
       "    </tr>\n",
       "    <tr>\n",
       "      <th>7</th>\n",
       "      <td>싱글맘맘이야</td>\n",
       "    </tr>\n",
       "    <tr>\n",
       "      <th>8</th>\n",
       "      <td>잘먹는 가</td>\n",
       "    </tr>\n",
       "    <tr>\n",
       "      <th>9</th>\n",
       "      <td>여기서 한잔할래?</td>\n",
       "    </tr>\n",
       "    <tr>\n",
       "      <th>10</th>\n",
       "      <td>의대생 하루</td>\n",
       "    </tr>\n",
       "    <tr>\n",
       "      <th>11</th>\n",
       "      <td>묘령의 황자</td>\n",
       "    </tr>\n",
       "    <tr>\n",
       "      <th>12</th>\n",
       "      <td>느린한끼</td>\n",
       "    </tr>\n",
       "    <tr>\n",
       "      <th>13</th>\n",
       "      <td>양송부부의 맛있는 한잔</td>\n",
       "    </tr>\n",
       "    <tr>\n",
       "      <th>14</th>\n",
       "      <td>교수도 사람이다</td>\n",
       "    </tr>\n",
       "    <tr>\n",
       "      <th>15</th>\n",
       "      <td>괜찮아, 고3이야</td>\n",
       "    </tr>\n",
       "    <tr>\n",
       "      <th>16</th>\n",
       "      <td>하얀 하늘 꽃구름</td>\n",
       "    </tr>\n",
       "    <tr>\n",
       "      <th>17</th>\n",
       "      <td>우리집 강아지는 복슬강아지</td>\n",
       "    </tr>\n",
       "    <tr>\n",
       "      <th>18</th>\n",
       "      <td>생각보다 잘 자랐습니다</td>\n",
       "    </tr>\n",
       "    <tr>\n",
       "      <th>19</th>\n",
       "      <td>아오링도쿄</td>\n",
       "    </tr>\n",
       "    <tr>\n",
       "      <th>20</th>\n",
       "      <td>팬시x팬시</td>\n",
       "    </tr>\n",
       "    <tr>\n",
       "      <th>21</th>\n",
       "      <td>스토커의 하루</td>\n",
       "    </tr>\n",
       "    <tr>\n",
       "      <th>22</th>\n",
       "      <td>행복을 만드는 방법</td>\n",
       "    </tr>\n",
       "    <tr>\n",
       "      <th>23</th>\n",
       "      <td>집순이에 대하여</td>\n",
       "    </tr>\n",
       "  </tbody>\n",
       "</table>\n",
       "</div>"
      ],
      "text/plain": [
       "                정식웹툰이름\n",
       "0             대학원 탈출일지\n",
       "1             과학고 생존일지\n",
       "2   햇살 주인공을 악당으로 키워버렸다\n",
       "3              빨간맛 로맨스\n",
       "4          사예의 식이장애 일지\n",
       "5              저승파견고용직\n",
       "6      우리 카페 사장님이 이상하다\n",
       "7               싱글맘맘이야\n",
       "8                잘먹는 가\n",
       "9            여기서 한잔할래?\n",
       "10              의대생 하루\n",
       "11              묘령의 황자\n",
       "12                느린한끼\n",
       "13        양송부부의 맛있는 한잔\n",
       "14            교수도 사람이다\n",
       "15           괜찮아, 고3이야\n",
       "16           하얀 하늘 꽃구름\n",
       "17      우리집 강아지는 복슬강아지\n",
       "18        생각보다 잘 자랐습니다\n",
       "19               아오링도쿄\n",
       "20               팬시x팬시\n",
       "21             스토커의 하루\n",
       "22          행복을 만드는 방법\n",
       "23            집순이에 대하여"
      ]
     },
     "execution_count": 79,
     "metadata": {},
     "output_type": "execute_result"
    }
   ],
   "source": [
    "# driver = wb.Chrome()\n",
    "# url=\"https://comic.naver.com/genre/bestChallenge.nhn?m=main&order=ViewCount\"\n",
    "# driver.get(url)\n",
    "# time.sleep(1)\n",
    "\n",
    "# officialList = [] \n",
    "\n",
    "# for i in range(2,3):\n",
    "#     soup = bs(driver.page_source, 'lxml')\n",
    "#     try :\n",
    "#         check = soup.select(\"div.fl > a > span.mark_serial\")\n",
    "#         if(check[0].text== '정식연재 작품'):\n",
    "#             check = \"\"\n",
    "#             official = soup.select(\"div.challengeInfo > h6 > a\")\n",
    "#             for j in range(0, len(official)):\n",
    "#                 officialList.append(official[j].text.strip())\n",
    "#     except :\n",
    "#         print(\"정식연재가 없다.\")\n",
    "#     time.sleep(1)\n",
    "# #   페이지 넘기기\n",
    "#     url=\"https://comic.naver.com/genre/bestChallenge.nhn?m=main&order=ViewCount&page=\"+str(i)\n",
    "#     driver.get(url)\n",
    "#     time.sleep(1)\n",
    "\n",
    "# dic2 = {\"정식웹툰이름\" : officialList}\n",
    "# pd.DataFrame(dic2)"
   ]
  },
  {
   "cell_type": "code",
   "execution_count": 72,
   "metadata": {},
   "outputs": [
    {
     "data": {
      "text/plain": [
       "[<span class=\"mark_serial\">정식연재 작품</span>]"
      ]
     },
     "execution_count": 72,
     "metadata": {},
     "output_type": "execute_result"
    }
   ],
   "source": [
    "# check"
   ]
  },
  {
   "cell_type": "code",
   "execution_count": 91,
   "metadata": {},
   "outputs": [
    {
     "name": "stdout",
     "output_type": "stream",
     "text": [
      "정식연재가 없다.\n",
      "정식연재가 없다.\n",
      "정식연재가 없다.\n",
      "정식연재가 없다.\n",
      "정식연재가 없다.\n",
      "정식연재가 없다.\n",
      "정식연재가 없다.\n",
      "정식연재가 없다.\n",
      "정식연재가 없다.\n",
      "정식연재가 없다.\n",
      "정식연재가 없다.\n",
      "정식연재가 없다.\n",
      "정식연재가 없다.\n",
      "정식연재가 없다.\n",
      "정식연재가 없다.\n",
      "정식연재가 없다.\n",
      "정식연재가 없다.\n",
      "정식연재가 없다.\n",
      "정식연재가 없다.\n",
      "정식연재가 없다.\n",
      "정식연재가 없다.\n",
      "정식연재가 없다.\n",
      "정식연재가 없다.\n",
      "정식연재가 없다.\n",
      "정식연재가 없다.\n",
      "정식연재가 없다.\n",
      "정식연재가 없다.\n",
      "정식연재가 없다.\n",
      "정식연재가 없다.\n",
      "정식연재가 없다.\n",
      "정식연재가 없다.\n",
      "정식연재가 없다.\n",
      "정식연재가 없다.\n",
      "정식연재가 없다.\n",
      "정식연재가 없다.\n",
      "정식연재가 없다.\n",
      "정식연재가 없다.\n",
      "정식연재가 없다.\n",
      "정식연재가 없다.\n",
      "정식연재가 없다.\n",
      "정식연재가 없다.\n",
      "정식연재가 없다.\n",
      "정식연재가 없다.\n",
      "정식연재가 없다.\n",
      "정식연재가 없다.\n",
      "정식연재가 없다.\n",
      "정식연재가 없다.\n",
      "정식연재가 없다.\n",
      "정식연재가 없다.\n",
      "정식연재가 없다.\n",
      "정식연재가 없다.\n",
      "정식연재가 없다.\n",
      "정식연재가 없다.\n",
      "정식연재가 없다.\n",
      "정식연재가 없다.\n",
      "정식연재가 없다.\n",
      "정식연재가 없다.\n",
      "정식연재가 없다.\n",
      "정식연재가 없다.\n",
      "정식연재가 없다.\n",
      "정식연재가 없다.\n",
      "정식연재가 없다.\n",
      "정식연재가 없다.\n",
      "정식연재가 없다.\n",
      "정식연재가 없다.\n",
      "정식연재가 없다.\n",
      "정식연재가 없다.\n",
      "정식연재가 없다.\n",
      "정식연재가 없다.\n",
      "정식연재가 없다.\n",
      "정식연재가 없다.\n",
      "정식연재가 없다.\n",
      "정식연재가 없다.\n",
      "정식연재가 없다.\n",
      "정식연재가 없다.\n",
      "정식연재가 없다.\n",
      "정식연재가 없다.\n",
      "정식연재가 없다.\n",
      "정식연재가 없다.\n",
      "정식연재가 없다.\n",
      "정식연재가 없다.\n",
      "정식연재가 없다.\n",
      "정식연재가 없다.\n",
      "정식연재가 없다.\n",
      "정식연재가 없다.\n",
      "정식연재가 없다.\n",
      "정식연재가 없다.\n",
      "정식연재가 없다.\n",
      "정식연재가 없다.\n",
      "정식연재가 없다.\n",
      "정식연재가 없다.\n",
      "정식연재가 없다.\n",
      "정식연재가 없다.\n",
      "정식연재가 없다.\n",
      "정식연재가 없다.\n",
      "정식연재가 없다.\n",
      "정식연재가 없다.\n",
      "정식연재가 없다.\n",
      "정식연재가 없다.\n",
      "정식연재가 없다.\n",
      "정식연재가 없다.\n",
      "정식연재가 없다.\n",
      "정식연재가 없다.\n",
      "정식연재가 없다.\n",
      "정식연재가 없다.\n",
      "정식연재가 없다.\n",
      "정식연재가 없다.\n",
      "정식연재가 없다.\n",
      "정식연재가 없다.\n",
      "정식연재가 없다.\n",
      "정식연재가 없다.\n",
      "정식연재가 없다.\n",
      "정식연재가 없다.\n",
      "정식연재가 없다.\n",
      "정식연재가 없다.\n",
      "정식연재가 없다.\n",
      "정식연재가 없다.\n",
      "정식연재가 없다.\n",
      "정식연재가 없다.\n",
      "정식연재가 없다.\n",
      "정식연재가 없다.\n",
      "정식연재가 없다.\n",
      "정식연재가 없다.\n",
      "정식연재가 없다.\n",
      "정식연재가 없다.\n",
      "정식연재가 없다.\n",
      "정식연재가 없다.\n",
      "정식연재가 없다.\n",
      "정식연재가 없다.\n",
      "정식연재가 없다.\n",
      "정식연재가 없다.\n",
      "정식연재가 없다.\n",
      "정식연재가 없다.\n",
      "정식연재가 없다.\n",
      "정식연재가 없다.\n",
      "정식연재가 없다.\n",
      "정식연재가 없다.\n",
      "정식연재가 없다.\n",
      "정식연재가 없다.\n",
      "정식연재가 없다.\n",
      "정식연재가 없다.\n",
      "정식연재가 없다.\n",
      "정식연재가 없다.\n",
      "정식연재가 없다.\n",
      "정식연재가 없다.\n",
      "정식연재가 없다.\n",
      "정식연재가 없다.\n",
      "정식연재가 없다.\n",
      "정식연재가 없다.\n",
      "정식연재가 없다.\n",
      "정식연재가 없다.\n",
      "정식연재가 없다.\n",
      "정식연재가 없다.\n",
      "정식연재가 없다.\n",
      "정식연재가 없다.\n",
      "정식연재가 없다.\n",
      "정식연재가 없다.\n",
      "정식연재가 없다.\n",
      "정식연재가 없다.\n",
      "정식연재가 없다.\n",
      "정식연재가 없다.\n",
      "정식연재가 없다.\n",
      "정식연재가 없다.\n",
      "정식연재가 없다.\n",
      "정식연재가 없다.\n",
      "정식연재가 없다.\n",
      "정식연재가 없다.\n",
      "정식연재가 없다.\n",
      "정식연재가 없다.\n",
      "정식연재가 없다.\n",
      "정식연재가 없다.\n",
      "정식연재가 없다.\n",
      "정식연재가 없다.\n",
      "정식연재가 없다.\n",
      "정식연재가 없다.\n",
      "정식연재가 없다.\n",
      "정식연재가 없다.\n",
      "정식연재가 없다.\n",
      "정식연재가 없다.\n",
      "정식연재가 없다.\n",
      "정식연재가 없다.\n",
      "정식연재가 없다.\n",
      "정식연재가 없다.\n",
      "정식연재가 없다.\n",
      "정식연재가 없다.\n",
      "정식연재가 없다.\n",
      "정식연재가 없다.\n",
      "정식연재가 없다.\n",
      "정식연재가 없다.\n",
      "정식연재가 없다.\n",
      "정식연재가 없다.\n",
      "정식연재가 없다.\n",
      "정식연재가 없다.\n",
      "정식연재가 없다.\n",
      "정식연재가 없다.\n",
      "정식연재가 없다.\n",
      "정식연재가 없다.\n",
      "정식연재가 없다.\n",
      "정식연재가 없다.\n",
      "정식연재가 없다.\n",
      "정식연재가 없다.\n",
      "정식연재가 없다.\n",
      "정식연재가 없다.\n",
      "정식연재가 없다.\n",
      "정식연재가 없다.\n",
      "정식연재가 없다.\n",
      "정식연재가 없다.\n",
      "정식연재가 없다.\n",
      "정식연재가 없다.\n",
      "정식연재가 없다.\n",
      "정식연재가 없다.\n",
      "정식연재가 없다.\n",
      "정식연재가 없다.\n",
      "정식연재가 없다.\n",
      "정식연재가 없다.\n",
      "정식연재가 없다.\n",
      "정식연재가 없다.\n",
      "정식연재가 없다.\n",
      "정식연재가 없다.\n",
      "정식연재가 없다.\n",
      "정식연재가 없다.\n",
      "정식연재가 없다.\n",
      "정식연재가 없다.\n",
      "정식연재가 없다.\n",
      "정식연재가 없다.\n",
      "정식연재가 없다.\n",
      "정식연재가 없다.\n",
      "정식연재가 없다.\n",
      "정식연재가 없다.\n",
      "정식연재가 없다.\n",
      "정식연재가 없다.\n",
      "정식연재가 없다.\n",
      "정식연재가 없다.\n",
      "정식연재가 없다.\n",
      "정식연재가 없다.\n",
      "정식연재가 없다.\n",
      "정식연재가 없다.\n",
      "정식연재가 없다.\n",
      "정식연재가 없다.\n",
      "정식연재가 없다.\n"
     ]
    }
   ],
   "source": [
    "# driver = wb.Chrome()\n",
    "# # 좋아요\n",
    "# list1 = [4, 6] # div태그 자식 선택자 순서\n",
    "# list2 = [1, 3, 5] # td태그 자식선택자 순서\n",
    "# list3 = [\"daily\", \"comic\", \"fantasy\", \"action\",\"drama\", \"pure\", \n",
    "#          \"sensibility\", \"thrill\", \"historical\", \"sports\"] # 장르별 url\n",
    "\n",
    "# for o in list3: # 장르별 페이지\n",
    "#     for m in range(1, 2): # 페이지\n",
    "#         url=\"https://comic.naver.com/genre/bestChallenge.nhn?m=\"+o+\"&order=ViewCount&page=\"+str(m)\n",
    "#         driver.get(url)\n",
    "#         time.sleep(1)\n",
    "#         for k in list1: #  div태그 자식 선택자 순서\n",
    "#             for i in range(1,5): # 고정값 바꾸면 안됨, tr태그 자식선택자 순서, #1,5\n",
    "#                 for j in list2: # td태그\n",
    "#                     soup = bs(driver.page_source, 'lxml')\n",
    "#                     try :\n",
    "#                         check = soup.select(\"content > div:nth-child(\"+str(k)+\")> table > tbody > tr:nth-child(\"+str(i)+\") > td:nth-child(\"+str(j)+\") > div.fl > a > span.mark_serial\")\n",
    "#                         if(check[0].text== '정식연재 작품'):\n",
    "#                             official = soup.select(\"content > div:nth-child(\"+k+\")> table > tbody > tr:nth-child(\"+i+\") > td:nth-child(\"+j+\") > div.challengeInfo > h6 > a\")\n",
    "#                             for j in range(0, len(official)):\n",
    "#                                 officialList.append(official[j].text.strip())\n",
    "#                     except :\n",
    "#                         print(\"정식연재가 없다.\")\n",
    "    \n",
    "# dic2 = {\"정식연재\":officialList}\n",
    "# dic2 = pd.DataFrame(dic2)"
   ]
  },
  {
   "cell_type": "code",
   "execution_count": null,
   "metadata": {},
   "outputs": [],
   "source": [
    "# dic2"
   ]
  },
  {
   "cell_type": "markdown",
   "metadata": {},
   "source": [
    "# 장르, 제목, 전체 좋아요, 전체 별점, 이미지"
   ]
  },
  {
   "cell_type": "code",
   "execution_count": 55,
   "metadata": {},
   "outputs": [
    {
     "data": {
      "text/plain": [
       "'에피소드'"
      ]
     },
     "execution_count": 55,
     "metadata": {},
     "output_type": "execute_result"
    }
   ],
   "source": [
    "# driver = wb.Chrome()\n",
    "# url=\"https://comic.naver.com/genre/bestChallenge.nhn?m=episode&order=ViewCount&page=\"+str(m)\n",
    "# driver.get(url)\n",
    "# time.sleep(1)\n",
    "\n",
    "# genre = driver.find_element_by_css_selector(\"#content > h3.title\").text.strip()\n",
    "# genre.split(\"\\n\")[0]"
   ]
  },
  {
   "cell_type": "code",
   "execution_count": 3,
   "metadata": {},
   "outputs": [
    {
     "name": "stdout",
     "output_type": "stream",
     "text": [
      "폴더 생성 완료\n"
     ]
    }
   ],
   "source": [
    "# if not os.path.isdir(\"C:/Users/SM2119/Desktop/이미지\") :\n",
    "#     print('폴더 생성 완료')\n",
    "#     os.mkdir(\"C:/Users/SM2119/Desktop/이미지\")\n",
    "# else:\n",
    "#     print(\"이미 동일한 이름의 폴더가 있습니다\")"
   ]
  },
  {
   "cell_type": "code",
   "execution_count": 25,
   "metadata": {
    "scrolled": true
   },
   "outputs": [],
   "source": [
    "# driver = wb.Chrome()\n",
    "# # 좋아요\n",
    "# likeList = []\n",
    "# starList = []\n",
    "# titleList = []\n",
    "# genreList = [] # 장르\n",
    "# imgSrc = [] # 이미지\n",
    "# list1 = [4, 6] # div태그 자식 선택자 순서\n",
    "# list2 = [1, 3, 5] # td태그 자식선택자 순서\n",
    "# list3 = [\"daily\", \"comic\", \"fantasy\", \"action\",\"drama\", \"pure\", \n",
    "#          \"sensibility\", \"thrill\", \"historical\", \"sports\"] # 장르별 url\n",
    "# # \"episode\", \"omnibus\", \"story\"\n",
    "\n",
    "# for o in list3: # 장르별 페이지\n",
    "#     for m in range(1, 2): # 페이지\n",
    "#         url=\"https://comic.naver.com/genre/bestChallenge.nhn?m=\"+o+\"&order=ViewCount&page=\"+str(m)\n",
    "#         driver.get(url)\n",
    "#         time.sleep(1)\n",
    "#         # 이미지 저장\n",
    "#         soup = bs(driver.page_source, 'lxml')\n",
    "#         img = soup.select(\"div.fl > a > img\")\n",
    "#         img[0][\"src\"]\n",
    "#         for im in img:\n",
    "#             imgSrc.append(im[\"src\"])\n",
    "#         for k in list1: #  div태그 자식 선택자 순서\n",
    "#             for i in range(1,5): # 고정값 바꾸면 안됨, tr태그 자식선택자 순서, #1,5\n",
    "#                 for j in list2:\n",
    "#                     star = driver.find_element_by_css_selector(\"div:nth-child(\"+str(k)+\") > table > tbody > tr:nth-child(\"+str(i)+\") > td:nth-child(\"+str(j)+\") > div.challengeInfo > div.rating_type > strong\").text\n",
    "#                     starList.append(star)\n",
    "#                     title = driver.find_element_by_css_selector(\"div:nth-child(\"+str(k)+\") > table > tbody > tr:nth-child(\"+str(i)+\") > td:nth-child(\"+str(j)+\") > div.challengeInfo > h6 > a\").text\n",
    "#                     titleList.append(title)\n",
    "#                     genre = driver.find_element_by_css_selector(\"#content > h3.title\").text.strip()\n",
    "#                     genreList.append(genre.split(\"\\n\")[0])\n",
    "#                     time.sleep(1)\n",
    "#                     div = driver.find_element_by_css_selector(\"div:nth-child(\"+str(k)+\") > table > tbody > tr:nth-child(\"+str(i)+\") > td:nth-child(\"+str(j)+\") >  div.fl > a\")\n",
    "#                     div.click()\n",
    "#                     time.sleep(1)\n",
    "#                     like = driver.find_element_by_css_selector(\"em.u_cnt\").text\n",
    "#                     likeList.append(like)\n",
    "#                     time.sleep(1)\n",
    "#                     driver.back()\n",
    "#                     time.sleep(1)\n",
    "                    \n",
    "    \n",
    "# dic = {\"장르\":genreList,\"제목\": titleList,\"좋아요\" : likeList, \"별점\": starList}\n",
    "# dic = pd.DataFrame(dic)"
   ]
  },
  {
   "cell_type": "code",
   "execution_count": 5,
   "metadata": {},
   "outputs": [
    {
     "name": "stderr",
     "output_type": "stream",
     "text": [
      "<ipython-input-5-3e86895b237d>:2: TqdmDeprecationWarning: This function will be removed in tqdm==5.0.0\n",
      "Please use `tqdm.notebook.tqdm` instead of `tqdm.tqdm_notebook`\n",
      "  for i in tq(range(len(imgSrc))):\n"
     ]
    },
    {
     "data": {
      "application/vnd.jupyter.widget-view+json": {
       "model_id": "73254ef591de4d21b3305d59bab47629",
       "version_major": 2,
       "version_minor": 0
      },
      "text/plain": [
       "HBox(children=(HTML(value=''), FloatProgress(value=0.0, max=240.0), HTML(value='')))"
      ]
     },
     "metadata": {},
     "output_type": "display_data"
    },
    {
     "name": "stdout",
     "output_type": "stream",
     "text": [
      "\n"
     ]
    }
   ],
   "source": [
    "# fileNo = 0\n",
    "# for i in tq(range(len(imgSrc))):\n",
    "#     urlretrieve(imgSrc[i], \"C:/Users/SM2119/Desktop/이미지/\"+str(i)+\".jpg\")\n",
    "#     fileNo += 1\n",
    "#     time.sleep(1)"
   ]
  },
  {
   "cell_type": "markdown",
   "metadata": {},
   "source": [
    "#### 이미지이름을 웹툰 이름으로 지정하기"
   ]
  },
  {
   "cell_type": "code",
   "execution_count": 26,
   "metadata": {},
   "outputs": [
    {
     "name": "stdout",
     "output_type": "stream",
     "text": [
      "이미 동일한 이름의 폴더가 있습니다\n"
     ]
    }
   ],
   "source": [
    "# if not os.path.isdir(\"C:/Users/SM2119/Desktop/이미지2\") :\n",
    "#     print('폴더 생성 완료')\n",
    "#     os.mkdir(\"C:/Users/SM2119/Desktop/이미지2\")\n",
    "# else:\n",
    "#     print(\"이미 동일한 이름의 폴더가 있습니다\")"
   ]
  },
  {
   "cell_type": "markdown",
   "metadata": {},
   "source": [
    "리스트에 특수문자 제거"
   ]
  },
  {
   "cell_type": "code",
   "execution_count": 27,
   "metadata": {},
   "outputs": [
    {
     "name": "stdout",
     "output_type": "stream",
     "text": [
      "대학원탈출일지\n",
      "과학고생존일지\n",
      "사예의식이장애일지\n",
      "우리카페사장님이이상하다\n",
      "싱글맘맘이야\n",
      "잘먹는가\n",
      "여기서한잔할래\n",
      "의대생하루\n",
      "느린한끼\n",
      "양송부부의맛있는한잔\n",
      "교수도사람이다\n",
      "괜찮아고3이야\n",
      "하얀하늘꽃구름\n",
      "우리집강아지는복슬강아지\n",
      "생각보다잘자랐습니다\n",
      "아오링도쿄\n",
      "집순이에대하여\n",
      "급식으로사는법\n",
      "지극히평범한생활\n",
      "고등학교수감기록\n",
      "직업며느리\n",
      "아빠는N살\n",
      "일찍자고일찍일어나기\n",
      "힝구의견생일기\n",
      "잘먹는가\n",
      "여기서한잔할래\n",
      "의대생하루\n",
      "괜찮아고3이야\n",
      "우리집강아지는복슬강아지\n",
      "팬시x팬시\n",
      "급식으로사는법\n",
      "고등학교수감기록\n",
      "일찍자고일찍일어나기\n",
      "인문학거저보기서양철학편\n",
      "아틀레냐비바체\n",
      "머슬툰\n",
      "생산직툰\n",
      "현생툰\n",
      "이세계국밥마스터\n",
      "자작보드게임동아리\n",
      "제목이7080만화\n",
      "나는마요집사로소이다\n",
      "누들트럭\n",
      "어둠의일상툰\n",
      "채똘일기\n",
      "맹랑맘마MEMORY\n",
      "죽쑨만화\n",
      "국밥소녀\n",
      "햇살주인공을악당으로키워버렸다\n",
      "저승파견고용직\n",
      "우리카페사장님이이상하다\n",
      "묘령의황자\n",
      "악마법소녀\n",
      "아틀레냐비바체\n",
      "디바이스\n",
      "피치인러브\n",
      "런어웨이\n",
      "이세계국밥마스터\n",
      "행운을부르는고양이씨\n",
      "템플러\n",
      "마샤의인형\n",
      "언니가돌아왔다\n",
      "미친꽃은답도없다\n",
      "죽음과동화\n",
      "그림셔틀\n",
      "실험학교\n",
      "LADSPARTY\n",
      "저승화랑전\n",
      "저승화랑이야기\n",
      "용사가되고싶지않아\n",
      "띵동도토리에요\n",
      "용사성장프로젝트\n",
      "저승파견고용직\n",
      "악마법소녀\n",
      "디바이스\n",
      "템플러\n",
      "그림셔틀\n",
      "용사가되고싶지않아\n",
      "용사성장프로젝트\n",
      "클리셰\n",
      "체리블러드\n",
      "저승길잡이\n",
      "헬로로시\n",
      "신과인간\n",
      "프레이\n",
      "블랙펄\n",
      "아타나시아\n",
      "질주\n",
      "덩키파티\n",
      "디센트\n",
      "아라군주\n",
      "로그아일\n",
      "플래닛자이언\n",
      "원더키퍼\n",
      "날개부러진새의노래\n",
      "킥오프\n",
      "빨간맛로맨스\n",
      "양송부부의맛있는한잔\n",
      "스토커의하루\n",
      "행복을만드는방법\n",
      "사지선다\n",
      "대공녀는거기에없었다\n",
      "낮잠자는사람들\n",
      "남편먹는여자\n",
      "제제와함께\n",
      "그날우리들의여름\n",
      "두꺼비집\n",
      "하루의하늘\n",
      "제목이7080만화\n",
      "서툴고어리숙해도좋아하는\n",
      "곰팡남녀\n",
      "언니가돌아왔다\n",
      "AI폰아리랑\n",
      "LADSPARTY\n",
      "새벽인력\n",
      "마이데이\n",
      "내계절에있어줘\n",
      "솔의일기\n",
      "모두의미아씨\n",
      "Jun과나\n",
      "햇살주인공을악당으로키워버렸다\n",
      "빨간맛로맨스\n",
      "팬시x팬시\n",
      "사지선다\n",
      "너와가까워지는거리\n",
      "피치인러브\n",
      "여긴불빛이안드는곳이야\n",
      "런어웨이\n",
      "만월에핀연꽃\n",
      "러브유어시스터\n",
      "범고래아가씨\n",
      "하루의하늘\n",
      "미친꽃은답도없다\n",
      "죽음과동화\n",
      "오무라이스프로젝트\n",
      "마이데이\n",
      "내계절에있어줘\n",
      "솔의일기\n",
      "Jun과나\n",
      "테일오브빌런\n",
      "오사장님은상사병\n",
      "소라비의잡화점\n",
      "케어시트\n",
      "뫼비우스의소설\n",
      "싱글맘맘이야\n",
      "느린한끼\n",
      "하얀하늘꽃구름\n",
      "생각보다잘자랐습니다\n",
      "아오링도쿄\n",
      "너와가까워지는거리\n",
      "깜빡깜빡\n",
      "나랑노랑이제는괜찮은이야기\n",
      "마롱의마카롱\n",
      "누들트럭\n",
      "오무라이스프로젝트\n",
      "원래부터아무것도없었던세계\n",
      "오늘을담다\n",
      "육아도경력이될수있다면\n",
      "CMYK\n",
      "방구석수필\n",
      "오늘도분홍했분홍\n",
      "김작가의오춘기그림일기\n",
      "쿤도덥브라더스\n",
      "이딴여행\n",
      "꿀꾸리꿈꾸리시즌2\n",
      "우주n은하\n",
      "모두의단편선\n",
      "전염소녀\n",
      "스토커의하루\n",
      "행복을만드는방법\n",
      "골짜기\n",
      "노을지는밤\n",
      "남편먹는여자\n",
      "미신\n",
      "두꺼비집\n",
      "러브유어시스터\n",
      "서툴고어리숙해도좋아하는\n",
      "메모리얼\n",
      "원래부터아무것도없었던세계\n",
      "꽃이피는자리\n",
      "사랑하는제자들\n",
      "계단\n",
      "기억지도\n",
      "프로탈출러\n",
      "플래닛자이언\n",
      "FIX\n",
      "귀전구담\n",
      "그림자게임\n",
      "나이트메어\n",
      "테이커\n",
      "괴괴괴괴괴\n",
      "살인스타그램\n",
      "대공녀는거기에없었다\n",
      "인문학거저보기서양철학편\n",
      "만월에핀연꽃\n",
      "만화임진왜란\n",
      "여왕의계절\n",
      "호구도사\n",
      "숲의향연\n",
      "광해와이순신\n",
      "백발의유성\n",
      "발자국이녹기전에\n",
      "찔레꽃그너머\n",
      "초상화\n",
      "여우자매\n",
      "이역\n",
      "요괴백정\n",
      "스타일리쉬리벤지\n",
      "이매무당전\n",
      "짐승뎐\n",
      "갓도령스\n",
      "붉게물들홍\n",
      "막순이\n",
      "상현당\n",
      "바리이야기\n",
      "룽과크리스\n",
      "머슬툰\n",
      "그날우리들의여름\n",
      "주짓수와고양이\n",
      "킥오프\n",
      "라라파루자\n",
      "트위너\n",
      "블랙앤서\n",
      "요리GO\n",
      "빅맨\n",
      "더익스트림\n",
      "탑코너\n",
      "엑스텐\n",
      "끝난게아니다청춘은야구사랑\n",
      "림딩동\n",
      "마킹\n",
      "디언더사이즈드THEUNDERSIZED\n",
      "방과후베이스볼클럽\n",
      "이길수있어\n",
      "수영만화일기\n",
      "불릿6미리\n",
      "GO신나고\n",
      "엔드시즌\n",
      "씨름\n",
      "위닝샷\n"
     ]
    }
   ],
   "source": [
    "# new_string = []\n",
    "# count=0\n",
    "# for i in titleList:\n",
    "#     new_string.append(''.join(filter(str.isalnum, i)))\n",
    "#     print(new_string[count])\n",
    "#     count += 1"
   ]
  },
  {
   "cell_type": "code",
   "execution_count": 28,
   "metadata": {},
   "outputs": [
    {
     "name": "stderr",
     "output_type": "stream",
     "text": [
      "<ipython-input-28-356de8d11e12>:3: TqdmDeprecationWarning: This function will be removed in tqdm==5.0.0\n",
      "Please use `tqdm.notebook.tqdm` instead of `tqdm.tqdm_notebook`\n",
      "  for i in tq(range(len(imgSrc))):\n"
     ]
    },
    {
     "data": {
      "application/vnd.jupyter.widget-view+json": {
       "model_id": "fda98b5d0fa5432f84258a36c2440686",
       "version_major": 2,
       "version_minor": 0
      },
      "text/plain": [
       "HBox(children=(HTML(value=''), FloatProgress(value=0.0, max=240.0), HTML(value='')))"
      ]
     },
     "metadata": {},
     "output_type": "display_data"
    },
    {
     "name": "stdout",
     "output_type": "stream",
     "text": [
      "\n"
     ]
    }
   ],
   "source": [
    "# # 파일의 이름 생성\n",
    "# fileNo = 0\n",
    "# for i in tq(range(len(imgSrc))):\n",
    "#     urlretrieve(imgSrc[i], \"C:/Users/SM2119/Desktop/이미지2/\"+str(new_string[i])+\".jpg\")\n",
    "#     fileNo += 1\n",
    "#     time.sleep(1)"
   ]
  },
  {
   "cell_type": "markdown",
   "metadata": {},
   "source": [
    "# 예외처리까지"
   ]
  },
  {
   "cell_type": "code",
   "execution_count": 30,
   "metadata": {},
   "outputs": [
    {
     "name": "stdout",
     "output_type": "stream",
     "text": [
      "종료되었습니다\n",
      "종료되었습니다\n",
      "종료되었습니다\n",
      "종료되었습니다\n",
      "종료되었습니다\n",
      "종료되었습니다\n",
      "종료되었습니다\n",
      "종료되었습니다\n",
      "종료되었습니다\n",
      "종료되었습니다\n"
     ]
    }
   ],
   "source": [
    "driver = wb.Chrome()\n",
    "likeList = [] # 전체 좋아요\n",
    "starList = [] # 전체별점\n",
    "titleList = [] # 제목\n",
    "genreList = [] # 장르\n",
    "imgSrc = [] # 이미지\n",
    "list1 = [4, 6] # div태그 자식 선택자 순서\n",
    "list2 = [1, 3, 5] # td태그 자식선택자 순서\n",
    "list3 = [\"daily\", \"comic\", \"fantasy\", \"action\",\"drama\", \"pure\", \n",
    "         \"sensibility\", \"thrill\", \"historical\", \"sports\"] # 장르별 url\n",
    "# \"episode\", \"omnibus\", \"story\"\n",
    "\n",
    "for o in list3: # 장르별 페이지\n",
    "    try :\n",
    "        for m in range(1, 50): # 페이지\n",
    "            url=\"https://comic.naver.com/genre/bestChallenge.nhn?m=\"+o+\"&order=ViewCount&page=\"+str(m)\n",
    "            driver.get(url)\n",
    "            time.sleep(1)\n",
    "            # 이미지 저장\n",
    "            soup = bs(driver.page_source, 'lxml')\n",
    "            img = soup.select(\"div.fl > a > img\")\n",
    "            img[0][\"src\"]\n",
    "            for im in img:\n",
    "                imgSrc.append(im[\"src\"])\n",
    "            for k in list1: #  div태그 자식 선택자 순서\n",
    "                for i in range(1,5): # 고정값 바꾸면 안됨, tr태그 자식선택자 순서, #1,5\n",
    "                    for j in list2:\n",
    "                        star = driver.find_element_by_css_selector(\"div:nth-child(\"+str(k)+\") > table > tbody > tr:nth-child(\"+str(i)+\") > td:nth-child(\"+str(j)+\") > div.challengeInfo > div.rating_type > strong\").text\n",
    "                        starList.append(star)\n",
    "                        title = driver.find_element_by_css_selector(\"div:nth-child(\"+str(k)+\") > table > tbody > tr:nth-child(\"+str(i)+\") > td:nth-child(\"+str(j)+\") > div.challengeInfo > h6 > a\").text\n",
    "                        titleList.append(title)\n",
    "                        genre = driver.find_element_by_css_selector(\"#content > h3.title\").text.strip()\n",
    "                        genreList.append(genre.split(\"\\n\")[0])\n",
    "                        time.sleep(1)\n",
    "                        div = driver.find_element_by_css_selector(\"div:nth-child(\"+str(k)+\") > table > tbody > tr:nth-child(\"+str(i)+\") > td:nth-child(\"+str(j)+\") >  div.fl > a\")\n",
    "                        div.click()\n",
    "                        time.sleep(1)\n",
    "                        like = driver.find_element_by_css_selector(\"em.u_cnt\").text\n",
    "                        likeList.append(like)\n",
    "                        time.sleep(1)\n",
    "                        driver.back()\n",
    "                        time.sleep(1)\n",
    "    except :\n",
    "        print(\"종료되었습니다\")\n",
    "    \n",
    "dic = {\"장르\":genreList,\"제목\": titleList,\"좋아요\" : likeList, \"별점\": starList}\n",
    "dic = pd.DataFrame(dic)"
   ]
  },
  {
   "cell_type": "code",
   "execution_count": 31,
   "metadata": {},
   "outputs": [
    {
     "name": "stdout",
     "output_type": "stream",
     "text": [
      "폴더 생성 완료\n"
     ]
    },
    {
     "name": "stderr",
     "output_type": "stream",
     "text": [
      "<ipython-input-31-5ef7bd51092a>:15: TqdmDeprecationWarning: This function will be removed in tqdm==5.0.0\n",
      "Please use `tqdm.notebook.tqdm` instead of `tqdm.tqdm_notebook`\n",
      "  for i in tq(range(len(imgSrc))):\n"
     ]
    },
    {
     "data": {
      "application/vnd.jupyter.widget-view+json": {
       "model_id": "d14fddf5ac804de088f3a0f15cd0d0b6",
       "version_major": 2,
       "version_minor": 0
      },
      "text/plain": [
       "HBox(children=(HTML(value=''), FloatProgress(value=0.0, max=5054.0), HTML(value='')))"
      ]
     },
     "metadata": {},
     "output_type": "display_data"
    },
    {
     "name": "stdout",
     "output_type": "stream",
     "text": [
      "\n"
     ]
    }
   ],
   "source": [
    "# 웹툰 제목으로 이미지 저장\n",
    "if not os.path.isdir(\"C:/Users/SM2119/Desktop/이미지2\") :\n",
    "    print('폴더 생성 완료')\n",
    "    os.mkdir(\"C:/Users/SM2119/Desktop/이미지2\")\n",
    "else:\n",
    "    print(\"이미 동일한 이름의 폴더가 있습니다\")\n",
    "    \n",
    "new_string = []\n",
    "count=0\n",
    "for i in titleList:\n",
    "    new_string.append(''.join(filter(str.isalnum, i)))\n",
    "    count += 1\n",
    "    \n",
    "# 파일의 이름 생성\n",
    "fileNo = 0\n",
    "for i in tq(range(len(imgSrc))):\n",
    "    urlretrieve(imgSrc[i], \"C:/Users/SM2119/Desktop/이미지2/\"+str(new_string[i])+\".jpg\")\n",
    "    fileNo += 1\n",
    "    time.sleep(1)"
   ]
  },
  {
   "cell_type": "code",
   "execution_count": 33,
   "metadata": {},
   "outputs": [
    {
     "name": "stdout",
     "output_type": "stream",
     "text": [
      "폴더 생성 완료\n"
     ]
    },
    {
     "name": "stderr",
     "output_type": "stream",
     "text": [
      "<ipython-input-33-be0d89c48247>:8: TqdmDeprecationWarning: This function will be removed in tqdm==5.0.0\n",
      "Please use `tqdm.notebook.tqdm` instead of `tqdm.tqdm_notebook`\n",
      "  for i in tq(range(len(imgSrc))):\n"
     ]
    },
    {
     "data": {
      "application/vnd.jupyter.widget-view+json": {
       "model_id": "3d17664496ad4cc8b8ef8f4f667794a5",
       "version_major": 2,
       "version_minor": 0
      },
      "text/plain": [
       "HBox(children=(HTML(value=''), FloatProgress(value=0.0, max=5054.0), HTML(value='')))"
      ]
     },
     "metadata": {},
     "output_type": "display_data"
    },
    {
     "name": "stdout",
     "output_type": "stream",
     "text": [
      "\n"
     ]
    }
   ],
   "source": [
    "# # 인덱스 번호로 이미지 저장\n",
    "# if not os.path.isdir(\"C:/Users/SM2119/Desktop/이미지\") :\n",
    "#     print('폴더 생성 완료')\n",
    "#     os.mkdir(\"C:/Users/SM2119/Desktop/이미지\")\n",
    "# else:\n",
    "#     print(\"이미 동일한 이름의 폴더가 있습니다\")\n",
    "    \n",
    "# fileNo = 0\n",
    "# for i in tq(range(len(imgSrc))):\n",
    "#     urlretrieve(imgSrc[i], \"C:/Users/SM2119/Desktop/이미지/\"+str(i)+\".jpg\")\n",
    "#     fileNo += 1\n",
    "#     time.sleep(1)"
   ]
  },
  {
   "cell_type": "code",
   "execution_count": 34,
   "metadata": {},
   "outputs": [],
   "source": [
    "# 중목된 행(row)삭제\n",
    "dic.drop_duplicates(inplace=True)\n",
    "# dust"
   ]
  },
  {
   "cell_type": "code",
   "execution_count": 36,
   "metadata": {},
   "outputs": [
    {
     "data": {
      "text/html": [
       "<div>\n",
       "<style scoped>\n",
       "    .dataframe tbody tr th:only-of-type {\n",
       "        vertical-align: middle;\n",
       "    }\n",
       "\n",
       "    .dataframe tbody tr th {\n",
       "        vertical-align: top;\n",
       "    }\n",
       "\n",
       "    .dataframe thead th {\n",
       "        text-align: right;\n",
       "    }\n",
       "</style>\n",
       "<table border=\"1\" class=\"dataframe\">\n",
       "  <thead>\n",
       "    <tr style=\"text-align: right;\">\n",
       "      <th></th>\n",
       "      <th>장르</th>\n",
       "      <th>제목</th>\n",
       "      <th>좋아요</th>\n",
       "      <th>별점</th>\n",
       "    </tr>\n",
       "  </thead>\n",
       "  <tbody>\n",
       "    <tr>\n",
       "      <th>0</th>\n",
       "      <td>일상</td>\n",
       "      <td>대학원 탈출일지</td>\n",
       "      <td>17,583</td>\n",
       "      <td>9.90</td>\n",
       "    </tr>\n",
       "    <tr>\n",
       "      <th>1</th>\n",
       "      <td>일상</td>\n",
       "      <td>과학고 생존일지</td>\n",
       "      <td>6,413</td>\n",
       "      <td>9.77</td>\n",
       "    </tr>\n",
       "    <tr>\n",
       "      <th>2</th>\n",
       "      <td>일상</td>\n",
       "      <td>사예의 식이장애 일지</td>\n",
       "      <td>1,348</td>\n",
       "      <td>9.80</td>\n",
       "    </tr>\n",
       "    <tr>\n",
       "      <th>3</th>\n",
       "      <td>일상</td>\n",
       "      <td>우리 카페 사장님이 이상하다</td>\n",
       "      <td>9,137</td>\n",
       "      <td>9.91</td>\n",
       "    </tr>\n",
       "    <tr>\n",
       "      <th>4</th>\n",
       "      <td>일상</td>\n",
       "      <td>싱글맘맘이야</td>\n",
       "      <td>3,853</td>\n",
       "      <td>9.94</td>\n",
       "    </tr>\n",
       "    <tr>\n",
       "      <th>...</th>\n",
       "      <td>...</td>\n",
       "      <td>...</td>\n",
       "      <td>...</td>\n",
       "      <td>...</td>\n",
       "    </tr>\n",
       "    <tr>\n",
       "      <th>5049</th>\n",
       "      <td>스포츠</td>\n",
       "      <td>비행소년</td>\n",
       "      <td>46</td>\n",
       "      <td>9.50</td>\n",
       "    </tr>\n",
       "    <tr>\n",
       "      <th>5050</th>\n",
       "      <td>스포츠</td>\n",
       "      <td>골신 파람</td>\n",
       "      <td>70</td>\n",
       "      <td>8.99</td>\n",
       "    </tr>\n",
       "    <tr>\n",
       "      <th>5051</th>\n",
       "      <td>스포츠</td>\n",
       "      <td>상어 이야기</td>\n",
       "      <td>114</td>\n",
       "      <td>9.43</td>\n",
       "    </tr>\n",
       "    <tr>\n",
       "      <th>5052</th>\n",
       "      <td>스포츠</td>\n",
       "      <td>도전만화가 변봉</td>\n",
       "      <td>35</td>\n",
       "      <td>9.67</td>\n",
       "    </tr>\n",
       "    <tr>\n",
       "      <th>5053</th>\n",
       "      <td>스포츠</td>\n",
       "      <td>샌프란시스코 화랑관</td>\n",
       "      <td>126</td>\n",
       "      <td>9.83</td>\n",
       "    </tr>\n",
       "  </tbody>\n",
       "</table>\n",
       "<p>5044 rows × 4 columns</p>\n",
       "</div>"
      ],
      "text/plain": [
       "       장르               제목     좋아요    별점\n",
       "0      일상         대학원 탈출일지  17,583  9.90\n",
       "1      일상         과학고 생존일지   6,413  9.77\n",
       "2      일상      사예의 식이장애 일지   1,348  9.80\n",
       "3      일상  우리 카페 사장님이 이상하다   9,137  9.91\n",
       "4      일상           싱글맘맘이야   3,853  9.94\n",
       "...   ...              ...     ...   ...\n",
       "5049  스포츠             비행소년      46  9.50\n",
       "5050  스포츠            골신 파람      70  8.99\n",
       "5051  스포츠           상어 이야기     114  9.43\n",
       "5052  스포츠         도전만화가 변봉      35  9.67\n",
       "5053  스포츠       샌프란시스코 화랑관     126  9.83\n",
       "\n",
       "[5044 rows x 4 columns]"
      ]
     },
     "execution_count": 36,
     "metadata": {},
     "output_type": "execute_result"
    }
   ],
   "source": [
    "dic"
   ]
  },
  {
   "cell_type": "markdown",
   "metadata": {},
   "source": [
    "# csv파일로 저장"
   ]
  },
  {
   "cell_type": "code",
   "execution_count": 32,
   "metadata": {},
   "outputs": [],
   "source": [
    "# csv파일로 저장\n",
    "dic.to_csv('webtoon.csv', encoding = \"\")"
   ]
  },
  {
   "cell_type": "code",
   "execution_count": 35,
   "metadata": {},
   "outputs": [],
   "source": [
    "# 중목행 제거 csv\n",
    "dic.to_csv('webtoon2.csv', encoding = \"\") "
   ]
  },
  {
   "cell_type": "markdown",
   "metadata": {},
   "source": [
    "# 정식웹툰제목 csv이랑 웹툰csv파일 묶기 "
   ]
  },
  {
   "cell_type": "code",
   "execution_count": 71,
   "metadata": {},
   "outputs": [],
   "source": [
    "officialTitle = pd.read_csv(\"officialTitle.csv\", encoding = \"euc-kr\")"
   ]
  },
  {
   "cell_type": "code",
   "execution_count": 72,
   "metadata": {},
   "outputs": [],
   "source": [
    "webtoon = pd.read_csv(\"webtoon2.csv\", encoding = \"CP949\")"
   ]
  },
  {
   "cell_type": "code",
   "execution_count": 75,
   "metadata": {},
   "outputs": [],
   "source": [
    "# 필요없는 컬럼삭제\n",
    "officialTitle.drop('Unnamed: 0', axis=1, inplace = True)"
   ]
  },
  {
   "cell_type": "code",
   "execution_count": 77,
   "metadata": {},
   "outputs": [],
   "source": [
    "# 필요없는 컬럼삭제\n",
    "webtoon.drop('Unnamed: 0', axis=1, inplace = True)"
   ]
  },
  {
   "cell_type": "code",
   "execution_count": 78,
   "metadata": {},
   "outputs": [],
   "source": [
    "ofTitle = officialTitle['정식연재'].unique()"
   ]
  },
  {
   "cell_type": "code",
   "execution_count": 79,
   "metadata": {},
   "outputs": [
    {
     "data": {
      "text/plain": [
       "'대학원 탈출일지'"
      ]
     },
     "execution_count": 79,
     "metadata": {},
     "output_type": "execute_result"
    }
   ],
   "source": [
    "webtoon['제목'][0]"
   ]
  },
  {
   "cell_type": "code",
   "execution_count": 80,
   "metadata": {},
   "outputs": [
    {
     "name": "stderr",
     "output_type": "stream",
     "text": [
      "<ipython-input-80-3ff6e3b1d9e9>:5: SettingWithCopyWarning: \n",
      "A value is trying to be set on a copy of a slice from a DataFrame\n",
      "\n",
      "See the caveats in the documentation: https://pandas.pydata.org/pandas-docs/stable/user_guide/indexing.html#returning-a-view-versus-a-copy\n",
      "  webtoon['정식연재'][i] = 1 # 정식연재인거는 1\n"
     ]
    }
   ],
   "source": [
    "webtoon['정식연재'] = 0 # 정식연재가 아닌거는 0\n",
    "for i in range(0, len(webtoon)):\n",
    "    for of in ofTitle:\n",
    "        if(webtoon['제목'][i] == of):\n",
    "            webtoon['정식연재'][i] = 1 # 정식연재인거는 1"
   ]
  },
  {
   "cell_type": "markdown",
   "metadata": {},
   "source": [
    "# 이게 최종 웹툰 csv"
   ]
  },
  {
   "cell_type": "code",
   "execution_count": 82,
   "metadata": {},
   "outputs": [],
   "source": [
    "webtoon.to_csv('webtoon3.csv', encoding = \"\") "
   ]
  },
  {
   "cell_type": "code",
   "execution_count": null,
   "metadata": {},
   "outputs": [],
   "source": []
  }
 ],
 "metadata": {
  "kernelspec": {
   "display_name": "Python 3",
   "language": "python",
   "name": "python3"
  },
  "language_info": {
   "codemirror_mode": {
    "name": "ipython",
    "version": 3
   },
   "file_extension": ".py",
   "mimetype": "text/x-python",
   "name": "python",
   "nbconvert_exporter": "python",
   "pygments_lexer": "ipython3",
   "version": "3.8.5"
  }
 },
 "nbformat": 4,
 "nbformat_minor": 4
}
